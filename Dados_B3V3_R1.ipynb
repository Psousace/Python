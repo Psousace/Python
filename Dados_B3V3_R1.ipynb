{
  "cells": [
    {
      "cell_type": "markdown",
      "metadata": {
        "id": "view-in-github",
        "colab_type": "text"
      },
      "source": [
        "<a href=\"https://colab.research.google.com/github/Psousace/Python/blob/main/Dados_B3V3_R1.ipynb\" target=\"_parent\"><img src=\"https://colab.research.google.com/assets/colab-badge.svg\" alt=\"Open In Colab\"/></a>"
      ]
    },
    {
      "cell_type": "code",
      "execution_count": 3,
      "id": "bf28bea0-877a-40ab-9f26-a32a6c2f9022",
      "metadata": {
        "id": "bf28bea0-877a-40ab-9f26-a32a6c2f9022",
        "outputId": "2a2f7634-783d-4a99-877a-450805785416",
        "colab": {
          "base_uri": "https://localhost:8080/"
        }
      },
      "outputs": [
        {
          "output_type": "stream",
          "name": "stdout",
          "text": [
            "Requirement already satisfied: selenium in /usr/local/lib/python3.10/dist-packages (4.12.0)\n",
            "Requirement already satisfied: urllib3[socks]<3,>=1.26 in /usr/local/lib/python3.10/dist-packages (from selenium) (2.0.4)\n",
            "Requirement already satisfied: trio~=0.17 in /usr/local/lib/python3.10/dist-packages (from selenium) (0.22.2)\n",
            "Requirement already satisfied: trio-websocket~=0.9 in /usr/local/lib/python3.10/dist-packages (from selenium) (0.10.3)\n",
            "Requirement already satisfied: certifi>=2021.10.8 in /usr/local/lib/python3.10/dist-packages (from selenium) (2023.7.22)\n",
            "Requirement already satisfied: attrs>=20.1.0 in /usr/local/lib/python3.10/dist-packages (from trio~=0.17->selenium) (23.1.0)\n",
            "Requirement already satisfied: sortedcontainers in /usr/local/lib/python3.10/dist-packages (from trio~=0.17->selenium) (2.4.0)\n",
            "Requirement already satisfied: idna in /usr/local/lib/python3.10/dist-packages (from trio~=0.17->selenium) (3.4)\n",
            "Requirement already satisfied: outcome in /usr/local/lib/python3.10/dist-packages (from trio~=0.17->selenium) (1.2.0)\n",
            "Requirement already satisfied: sniffio in /usr/local/lib/python3.10/dist-packages (from trio~=0.17->selenium) (1.3.0)\n",
            "Requirement already satisfied: exceptiongroup>=1.0.0rc9 in /usr/local/lib/python3.10/dist-packages (from trio~=0.17->selenium) (1.1.3)\n",
            "Requirement already satisfied: wsproto>=0.14 in /usr/local/lib/python3.10/dist-packages (from trio-websocket~=0.9->selenium) (1.2.0)\n",
            "Requirement already satisfied: pysocks!=1.5.7,<2.0,>=1.5.6 in /usr/local/lib/python3.10/dist-packages (from urllib3[socks]<3,>=1.26->selenium) (1.7.1)\n",
            "Requirement already satisfied: h11<1,>=0.9.0 in /usr/local/lib/python3.10/dist-packages (from wsproto>=0.14->trio-websocket~=0.9->selenium) (0.14.0)\n",
            "Requirement already satisfied: workadays in /usr/local/lib/python3.10/dist-packages (2023.7.20)\n",
            "Requirement already satisfied: python-dateutil>=2.8.0 in /usr/local/lib/python3.10/dist-packages (from workadays) (2.8.2)\n",
            "Requirement already satisfied: six>=1.11.0 in /usr/local/lib/python3.10/dist-packages (from workadays) (1.16.0)\n",
            "Collecting pyettj\n",
            "  Downloading pyettj-0.3.0-py3-none-any.whl (12 kB)\n",
            "Requirement already satisfied: beautifulsoup4<5.0.0,>=4.9.3 in /usr/local/lib/python3.10/dist-packages (from pyettj) (4.11.2)\n",
            "Collecting bizdays<0.4.0,>=0.3.0 (from pyettj)\n",
            "  Downloading bizdays-0.3.0-py3-none-any.whl (8.6 kB)\n",
            "Requirement already satisfied: lxml<5.0.0,>=4.6.3 in /usr/local/lib/python3.10/dist-packages (from pyettj) (4.9.3)\n",
            "Requirement already satisfied: matplotlib<4.0.0,>=3.4.2 in /usr/local/lib/python3.10/dist-packages (from pyettj) (3.7.1)\n",
            "Collecting nelson-siegel-svensson<0.6.0,>=0.5.0 (from pyettj)\n",
            "  Downloading nelson_siegel_svensson-0.5.0-py2.py3-none-any.whl (9.9 kB)\n",
            "Requirement already satisfied: pandas<2.0.0,>=1.2.4 in /usr/local/lib/python3.10/dist-packages (from pyettj) (1.5.3)\n",
            "Requirement already satisfied: requests<3.0.0,>=2.25.1 in /usr/local/lib/python3.10/dist-packages (from pyettj) (2.31.0)\n",
            "Requirement already satisfied: soupsieve>1.2 in /usr/local/lib/python3.10/dist-packages (from beautifulsoup4<5.0.0,>=4.9.3->pyettj) (2.4.1)\n",
            "Requirement already satisfied: contourpy>=1.0.1 in /usr/local/lib/python3.10/dist-packages (from matplotlib<4.0.0,>=3.4.2->pyettj) (1.1.0)\n",
            "Requirement already satisfied: cycler>=0.10 in /usr/local/lib/python3.10/dist-packages (from matplotlib<4.0.0,>=3.4.2->pyettj) (0.11.0)\n",
            "Requirement already satisfied: fonttools>=4.22.0 in /usr/local/lib/python3.10/dist-packages (from matplotlib<4.0.0,>=3.4.2->pyettj) (4.42.1)\n",
            "Requirement already satisfied: kiwisolver>=1.0.1 in /usr/local/lib/python3.10/dist-packages (from matplotlib<4.0.0,>=3.4.2->pyettj) (1.4.4)\n",
            "Requirement already satisfied: numpy>=1.20 in /usr/local/lib/python3.10/dist-packages (from matplotlib<4.0.0,>=3.4.2->pyettj) (1.23.5)\n",
            "Requirement already satisfied: packaging>=20.0 in /usr/local/lib/python3.10/dist-packages (from matplotlib<4.0.0,>=3.4.2->pyettj) (23.1)\n",
            "Requirement already satisfied: pillow>=6.2.0 in /usr/local/lib/python3.10/dist-packages (from matplotlib<4.0.0,>=3.4.2->pyettj) (9.4.0)\n",
            "Requirement already satisfied: pyparsing>=2.3.1 in /usr/local/lib/python3.10/dist-packages (from matplotlib<4.0.0,>=3.4.2->pyettj) (3.1.1)\n",
            "Requirement already satisfied: python-dateutil>=2.7 in /usr/local/lib/python3.10/dist-packages (from matplotlib<4.0.0,>=3.4.2->pyettj) (2.8.2)\n",
            "Requirement already satisfied: Click>=8.0 in /usr/local/lib/python3.10/dist-packages (from nelson-siegel-svensson<0.6.0,>=0.5.0->pyettj) (8.1.7)\n",
            "Requirement already satisfied: scipy>=1.7 in /usr/local/lib/python3.10/dist-packages (from nelson-siegel-svensson<0.6.0,>=0.5.0->pyettj) (1.10.1)\n",
            "Requirement already satisfied: pytz>=2020.1 in /usr/local/lib/python3.10/dist-packages (from pandas<2.0.0,>=1.2.4->pyettj) (2023.3)\n",
            "Requirement already satisfied: charset-normalizer<4,>=2 in /usr/local/lib/python3.10/dist-packages (from requests<3.0.0,>=2.25.1->pyettj) (3.2.0)\n",
            "Requirement already satisfied: idna<4,>=2.5 in /usr/local/lib/python3.10/dist-packages (from requests<3.0.0,>=2.25.1->pyettj) (3.4)\n",
            "Requirement already satisfied: urllib3<3,>=1.21.1 in /usr/local/lib/python3.10/dist-packages (from requests<3.0.0,>=2.25.1->pyettj) (2.0.4)\n",
            "Requirement already satisfied: certifi>=2017.4.17 in /usr/local/lib/python3.10/dist-packages (from requests<3.0.0,>=2.25.1->pyettj) (2023.7.22)\n",
            "Requirement already satisfied: six>=1.5 in /usr/local/lib/python3.10/dist-packages (from python-dateutil>=2.7->matplotlib<4.0.0,>=3.4.2->pyettj) (1.16.0)\n",
            "Installing collected packages: bizdays, nelson-siegel-svensson, pyettj\n",
            "Successfully installed bizdays-0.3.0 nelson-siegel-svensson-0.5.0 pyettj-0.3.0\n"
          ]
        }
      ],
      "source": [
        "!pip install selenium\n",
        "!pip install workadays\n",
        "!pip install pyettj"
      ]
    },
    {
      "cell_type": "code",
      "execution_count": 4,
      "id": "a22af619-b311-4a2d-9232-6094b8ff165a",
      "metadata": {
        "id": "a22af619-b311-4a2d-9232-6094b8ff165a",
        "outputId": "f9eaf040-8687-4c4c-eb5a-0e9516e3bc29",
        "colab": {
          "base_uri": "https://localhost:8080/"
        }
      },
      "outputs": [
        {
          "output_type": "stream",
          "name": "stdout",
          "text": [
            "pyettj 0.3.0\n"
          ]
        }
      ],
      "source": [
        "import requests as rq\n",
        "import pandas as pd\n",
        "from pyettj import ettj\n",
        "from bs4 import BeautifulSoup as bs\n",
        "\n",
        "\n",
        "from selenium import webdriver\n",
        "from selenium.webdriver.common.by import By\n",
        "import numpy as np"
      ]
    },
    {
      "cell_type": "code",
      "execution_count": 5,
      "id": "76364b4a-8d11-4400-bb37-c7157e221642",
      "metadata": {
        "tags": [],
        "id": "76364b4a-8d11-4400-bb37-c7157e221642"
      },
      "outputs": [],
      "source": [
        "#Mercadorias:\n",
        "#DOLAR\n",
        "#DI\n",
        "#FRA CUPOM (FRC)\n",
        "#BOVESPA\n",
        "#MILHO\n",
        "#OURO\n"
      ]
    },
    {
      "cell_type": "code",
      "execution_count": 6,
      "id": "06c0e3ba-5e52-4eb2-8bea-1db63a1ebd05",
      "metadata": {
        "id": "06c0e3ba-5e52-4eb2-8bea-1db63a1ebd05",
        "outputId": "aa2b343f-49ee-4c82-e29a-4ad9eb11daa4",
        "colab": {
          "base_uri": "https://localhost:8080/",
          "height": 737
        }
      },
      "outputs": [
        {
          "output_type": "error",
          "ename": "WebDriverException",
          "evalue": "ignored",
          "traceback": [
            "\u001b[0;31m---------------------------------------------------------------------------\u001b[0m",
            "\u001b[0;31mWebDriverException\u001b[0m                        Traceback (most recent call last)",
            "\u001b[0;32m<ipython-input-6-8f684c18a8a8>\u001b[0m in \u001b[0;36m<cell line: 3>\u001b[0;34m()\u001b[0m\n\u001b[1;32m      1\u001b[0m \u001b[0;31m#DOLAR\u001b[0m\u001b[0;34m\u001b[0m\u001b[0;34m\u001b[0m\u001b[0m\n\u001b[1;32m      2\u001b[0m \u001b[0;31m#acessa o site da B3 para capturar as informações de futuro de dolar na data especificada\u001b[0m\u001b[0;34m\u001b[0m\u001b[0;34m\u001b[0m\u001b[0m\n\u001b[0;32m----> 3\u001b[0;31m \u001b[0mnavegador\u001b[0m\u001b[0;34m=\u001b[0m\u001b[0mwebdriver\u001b[0m\u001b[0;34m.\u001b[0m\u001b[0mChrome\u001b[0m\u001b[0;34m(\u001b[0m\u001b[0;34m)\u001b[0m\u001b[0;34m\u001b[0m\u001b[0;34m\u001b[0m\u001b[0m\n\u001b[0m\u001b[1;32m      4\u001b[0m \u001b[0mdata\u001b[0m\u001b[0;34m=\u001b[0m\u001b[0;34m\"02/02/2023\"\u001b[0m\u001b[0;34m\u001b[0m\u001b[0;34m\u001b[0m\u001b[0m\n\u001b[1;32m      5\u001b[0m \u001b[0mURL_DOL\u001b[0m\u001b[0;34m=\u001b[0m\u001b[0;34m\"https://www2.bmf.com.br/pages/portal/bmfbovespa/lumis/lum-sistema-pregao-ptBR.asp?Data=\"\u001b[0m\u001b[0;34m+\u001b[0m\u001b[0mdata\u001b[0m\u001b[0;34m+\u001b[0m\u001b[0;34m\"&Mercadoria=DOL\"\u001b[0m\u001b[0;34m\u001b[0m\u001b[0;34m\u001b[0m\u001b[0m\n",
            "\u001b[0;32m/usr/local/lib/python3.10/dist-packages/selenium/webdriver/chrome/webdriver.py\u001b[0m in \u001b[0;36m__init__\u001b[0;34m(self, options, service, keep_alive)\u001b[0m\n\u001b[1;32m     43\u001b[0m         \u001b[0moptions\u001b[0m \u001b[0;34m=\u001b[0m \u001b[0moptions\u001b[0m \u001b[0;32mif\u001b[0m \u001b[0moptions\u001b[0m \u001b[0;32melse\u001b[0m \u001b[0mOptions\u001b[0m\u001b[0;34m(\u001b[0m\u001b[0;34m)\u001b[0m\u001b[0;34m\u001b[0m\u001b[0;34m\u001b[0m\u001b[0m\n\u001b[1;32m     44\u001b[0m \u001b[0;34m\u001b[0m\u001b[0m\n\u001b[0;32m---> 45\u001b[0;31m         super().__init__(\n\u001b[0m\u001b[1;32m     46\u001b[0m             \u001b[0mDesiredCapabilities\u001b[0m\u001b[0;34m.\u001b[0m\u001b[0mCHROME\u001b[0m\u001b[0;34m[\u001b[0m\u001b[0;34m\"browserName\"\u001b[0m\u001b[0;34m]\u001b[0m\u001b[0;34m,\u001b[0m\u001b[0;34m\u001b[0m\u001b[0;34m\u001b[0m\u001b[0m\n\u001b[1;32m     47\u001b[0m             \u001b[0;34m\"goog\"\u001b[0m\u001b[0;34m,\u001b[0m\u001b[0;34m\u001b[0m\u001b[0;34m\u001b[0m\u001b[0m\n",
            "\u001b[0;32m/usr/local/lib/python3.10/dist-packages/selenium/webdriver/chromium/webdriver.py\u001b[0m in \u001b[0;36m__init__\u001b[0;34m(self, browser_name, vendor_prefix, options, service, keep_alive)\u001b[0m\n\u001b[1;32m     54\u001b[0m \u001b[0;34m\u001b[0m\u001b[0m\n\u001b[1;32m     55\u001b[0m         \u001b[0;32mtry\u001b[0m\u001b[0;34m:\u001b[0m\u001b[0;34m\u001b[0m\u001b[0;34m\u001b[0m\u001b[0m\n\u001b[0;32m---> 56\u001b[0;31m             super().__init__(\n\u001b[0m\u001b[1;32m     57\u001b[0m                 command_executor=ChromiumRemoteConnection(\n\u001b[1;32m     58\u001b[0m                     \u001b[0mremote_server_addr\u001b[0m\u001b[0;34m=\u001b[0m\u001b[0mself\u001b[0m\u001b[0;34m.\u001b[0m\u001b[0mservice\u001b[0m\u001b[0;34m.\u001b[0m\u001b[0mservice_url\u001b[0m\u001b[0;34m,\u001b[0m\u001b[0;34m\u001b[0m\u001b[0;34m\u001b[0m\u001b[0m\n",
            "\u001b[0;32m/usr/local/lib/python3.10/dist-packages/selenium/webdriver/remote/webdriver.py\u001b[0m in \u001b[0;36m__init__\u001b[0;34m(self, command_executor, keep_alive, file_detector, options)\u001b[0m\n\u001b[1;32m    203\u001b[0m         \u001b[0mself\u001b[0m\u001b[0;34m.\u001b[0m\u001b[0m_authenticator_id\u001b[0m \u001b[0;34m=\u001b[0m \u001b[0;32mNone\u001b[0m\u001b[0;34m\u001b[0m\u001b[0;34m\u001b[0m\u001b[0m\n\u001b[1;32m    204\u001b[0m         \u001b[0mself\u001b[0m\u001b[0;34m.\u001b[0m\u001b[0mstart_client\u001b[0m\u001b[0;34m(\u001b[0m\u001b[0;34m)\u001b[0m\u001b[0;34m\u001b[0m\u001b[0;34m\u001b[0m\u001b[0m\n\u001b[0;32m--> 205\u001b[0;31m         \u001b[0mself\u001b[0m\u001b[0;34m.\u001b[0m\u001b[0mstart_session\u001b[0m\u001b[0;34m(\u001b[0m\u001b[0mcapabilities\u001b[0m\u001b[0;34m)\u001b[0m\u001b[0;34m\u001b[0m\u001b[0;34m\u001b[0m\u001b[0m\n\u001b[0m\u001b[1;32m    206\u001b[0m \u001b[0;34m\u001b[0m\u001b[0m\n\u001b[1;32m    207\u001b[0m     \u001b[0;32mdef\u001b[0m \u001b[0m__repr__\u001b[0m\u001b[0;34m(\u001b[0m\u001b[0mself\u001b[0m\u001b[0;34m)\u001b[0m\u001b[0;34m:\u001b[0m\u001b[0;34m\u001b[0m\u001b[0;34m\u001b[0m\u001b[0m\n",
            "\u001b[0;32m/usr/local/lib/python3.10/dist-packages/selenium/webdriver/remote/webdriver.py\u001b[0m in \u001b[0;36mstart_session\u001b[0;34m(self, capabilities)\u001b[0m\n\u001b[1;32m    287\u001b[0m \u001b[0;34m\u001b[0m\u001b[0m\n\u001b[1;32m    288\u001b[0m         \u001b[0mcaps\u001b[0m \u001b[0;34m=\u001b[0m \u001b[0m_create_caps\u001b[0m\u001b[0;34m(\u001b[0m\u001b[0mcapabilities\u001b[0m\u001b[0;34m)\u001b[0m\u001b[0;34m\u001b[0m\u001b[0;34m\u001b[0m\u001b[0m\n\u001b[0;32m--> 289\u001b[0;31m         \u001b[0mresponse\u001b[0m \u001b[0;34m=\u001b[0m \u001b[0mself\u001b[0m\u001b[0;34m.\u001b[0m\u001b[0mexecute\u001b[0m\u001b[0;34m(\u001b[0m\u001b[0mCommand\u001b[0m\u001b[0;34m.\u001b[0m\u001b[0mNEW_SESSION\u001b[0m\u001b[0;34m,\u001b[0m \u001b[0mcaps\u001b[0m\u001b[0;34m)\u001b[0m\u001b[0;34m[\u001b[0m\u001b[0;34m\"value\"\u001b[0m\u001b[0;34m]\u001b[0m\u001b[0;34m\u001b[0m\u001b[0;34m\u001b[0m\u001b[0m\n\u001b[0m\u001b[1;32m    290\u001b[0m         \u001b[0mself\u001b[0m\u001b[0;34m.\u001b[0m\u001b[0msession_id\u001b[0m \u001b[0;34m=\u001b[0m \u001b[0mresponse\u001b[0m\u001b[0;34m.\u001b[0m\u001b[0mget\u001b[0m\u001b[0;34m(\u001b[0m\u001b[0;34m\"sessionId\"\u001b[0m\u001b[0;34m)\u001b[0m\u001b[0;34m\u001b[0m\u001b[0;34m\u001b[0m\u001b[0m\n\u001b[1;32m    291\u001b[0m         \u001b[0mself\u001b[0m\u001b[0;34m.\u001b[0m\u001b[0mcaps\u001b[0m \u001b[0;34m=\u001b[0m \u001b[0mresponse\u001b[0m\u001b[0;34m.\u001b[0m\u001b[0mget\u001b[0m\u001b[0;34m(\u001b[0m\u001b[0;34m\"capabilities\"\u001b[0m\u001b[0;34m)\u001b[0m\u001b[0;34m\u001b[0m\u001b[0;34m\u001b[0m\u001b[0m\n",
            "\u001b[0;32m/usr/local/lib/python3.10/dist-packages/selenium/webdriver/remote/webdriver.py\u001b[0m in \u001b[0;36mexecute\u001b[0;34m(self, driver_command, params)\u001b[0m\n\u001b[1;32m    342\u001b[0m         \u001b[0mresponse\u001b[0m \u001b[0;34m=\u001b[0m \u001b[0mself\u001b[0m\u001b[0;34m.\u001b[0m\u001b[0mcommand_executor\u001b[0m\u001b[0;34m.\u001b[0m\u001b[0mexecute\u001b[0m\u001b[0;34m(\u001b[0m\u001b[0mdriver_command\u001b[0m\u001b[0;34m,\u001b[0m \u001b[0mparams\u001b[0m\u001b[0;34m)\u001b[0m\u001b[0;34m\u001b[0m\u001b[0;34m\u001b[0m\u001b[0m\n\u001b[1;32m    343\u001b[0m         \u001b[0;32mif\u001b[0m \u001b[0mresponse\u001b[0m\u001b[0;34m:\u001b[0m\u001b[0;34m\u001b[0m\u001b[0;34m\u001b[0m\u001b[0m\n\u001b[0;32m--> 344\u001b[0;31m             \u001b[0mself\u001b[0m\u001b[0;34m.\u001b[0m\u001b[0merror_handler\u001b[0m\u001b[0;34m.\u001b[0m\u001b[0mcheck_response\u001b[0m\u001b[0;34m(\u001b[0m\u001b[0mresponse\u001b[0m\u001b[0;34m)\u001b[0m\u001b[0;34m\u001b[0m\u001b[0;34m\u001b[0m\u001b[0m\n\u001b[0m\u001b[1;32m    345\u001b[0m             \u001b[0mresponse\u001b[0m\u001b[0;34m[\u001b[0m\u001b[0;34m\"value\"\u001b[0m\u001b[0;34m]\u001b[0m \u001b[0;34m=\u001b[0m \u001b[0mself\u001b[0m\u001b[0;34m.\u001b[0m\u001b[0m_unwrap_value\u001b[0m\u001b[0;34m(\u001b[0m\u001b[0mresponse\u001b[0m\u001b[0;34m.\u001b[0m\u001b[0mget\u001b[0m\u001b[0;34m(\u001b[0m\u001b[0;34m\"value\"\u001b[0m\u001b[0;34m,\u001b[0m \u001b[0;32mNone\u001b[0m\u001b[0;34m)\u001b[0m\u001b[0;34m)\u001b[0m\u001b[0;34m\u001b[0m\u001b[0;34m\u001b[0m\u001b[0m\n\u001b[1;32m    346\u001b[0m             \u001b[0;32mreturn\u001b[0m \u001b[0mresponse\u001b[0m\u001b[0;34m\u001b[0m\u001b[0;34m\u001b[0m\u001b[0m\n",
            "\u001b[0;32m/usr/local/lib/python3.10/dist-packages/selenium/webdriver/remote/errorhandler.py\u001b[0m in \u001b[0;36mcheck_response\u001b[0;34m(self, response)\u001b[0m\n\u001b[1;32m    227\u001b[0m                 \u001b[0malert_text\u001b[0m \u001b[0;34m=\u001b[0m \u001b[0mvalue\u001b[0m\u001b[0;34m[\u001b[0m\u001b[0;34m\"alert\"\u001b[0m\u001b[0;34m]\u001b[0m\u001b[0;34m.\u001b[0m\u001b[0mget\u001b[0m\u001b[0;34m(\u001b[0m\u001b[0;34m\"text\"\u001b[0m\u001b[0;34m)\u001b[0m\u001b[0;34m\u001b[0m\u001b[0;34m\u001b[0m\u001b[0m\n\u001b[1;32m    228\u001b[0m             \u001b[0;32mraise\u001b[0m \u001b[0mexception_class\u001b[0m\u001b[0;34m(\u001b[0m\u001b[0mmessage\u001b[0m\u001b[0;34m,\u001b[0m \u001b[0mscreen\u001b[0m\u001b[0;34m,\u001b[0m \u001b[0mstacktrace\u001b[0m\u001b[0;34m,\u001b[0m \u001b[0malert_text\u001b[0m\u001b[0;34m)\u001b[0m  \u001b[0;31m# type: ignore[call-arg]  # mypy is not smart enough here\u001b[0m\u001b[0;34m\u001b[0m\u001b[0;34m\u001b[0m\u001b[0m\n\u001b[0;32m--> 229\u001b[0;31m         \u001b[0;32mraise\u001b[0m \u001b[0mexception_class\u001b[0m\u001b[0;34m(\u001b[0m\u001b[0mmessage\u001b[0m\u001b[0;34m,\u001b[0m \u001b[0mscreen\u001b[0m\u001b[0;34m,\u001b[0m \u001b[0mstacktrace\u001b[0m\u001b[0;34m)\u001b[0m\u001b[0;34m\u001b[0m\u001b[0;34m\u001b[0m\u001b[0m\n\u001b[0m",
            "\u001b[0;31mWebDriverException\u001b[0m: Message: unknown error: Chrome failed to start: exited abnormally.\n  (unknown error: DevToolsActivePort file doesn't exist)\n  (The process started from chrome location /root/.cache/selenium/chrome/linux64/116.0.5845.96/chrome is no longer running, so ChromeDriver is assuming that Chrome has crashed.)\nStacktrace:\n#0 0x55563ce1be23 <unknown>\n#1 0x55563cb447a7 <unknown>\n#2 0x55563cb6f50a <unknown>\n#3 0x55563cb6ca25 <unknown>\n#4 0x55563cbacd92 <unknown>\n#5 0x55563cbac3af <unknown>\n#6 0x55563cba3de3 <unknown>\n#7 0x55563cb77a7b <unknown>\n#8 0x55563cb7881e <unknown>\n#9 0x55563cddd638 <unknown>\n#10 0x55563cde1507 <unknown>\n#11 0x55563cdebc4c <unknown>\n#12 0x55563cde2136 <unknown>\n#13 0x55563cdb09cf <unknown>\n#14 0x55563ce05b98 <unknown>\n#15 0x55563ce05d68 <unknown>\n#16 0x55563ce14cb3 <unknown>\n#17 0x7a47cc21eb43 <unknown>\n"
          ]
        }
      ],
      "source": [
        "#DOLAR\n",
        "#acessa o site da B3 para capturar as informações de futuro de dolar na data especificada\n",
        "navegador=webdriver.Chrome()\n",
        "data=\"02/02/2023\"\n",
        "URL_DOL=\"https://www2.bmf.com.br/pages/portal/bmfbovespa/lumis/lum-sistema-pregao-ptBR.asp?Data=\"+data+\"&Mercadoria=DOL\"\n",
        "navegador.get(URL_DOL)\n",
        "#captura a coluna de vencimento\n",
        "vencimento=navegador.find_element(By.ID, \"MercadoFut0\").text\n",
        "#separa a string em uma lista\n",
        "vencimento=vencimento.split()\n",
        "#remove o cabecalho\n",
        "vencimento=vencimento[1:]\n",
        "\n",
        "tabela_vencimento=pd.DataFrame(vencimento, columns=[\"VENCTO\"])\n",
        "#captura o numero de vencimentos negociados\n",
        "n_linhas=tabela_vencimento.shape[0]\n",
        "\n",
        "\n",
        "#captura os dados do dolar futuro\n",
        "dados=navegador.find_element(By.ID, \"MercadoFut2\").text\n",
        "#separa a string em uma lista\n",
        "dados=dados.split()\n",
        "#remove o cabeçalho\n",
        "dados=dados[19:]\n",
        "#separa em array\n",
        "dados_separado=np.array_split(dados,n_linhas)\n",
        "\n",
        "tabela_dados=pd.DataFrame(dados_separado, columns=[\"PREÇO ABERT.\",\"PREÇO MÍN.\",\"PREÇO MÁX.\",\"PREÇO MÉD.\",\"ÚLT. PREÇO\", \"AJUSTE\", \"VAR. PTOS.\", \"ÚLT. OF. COMPRA\", \"ÚLT. OF. VENDA\"])\n",
        "\n",
        "\n",
        "df_dol=pd.merge(tabela_vencimento,tabela_dados, left_index=True, right_index=True, how=\"inner\")\n",
        "df_dol"
      ]
    },
    {
      "cell_type": "code",
      "execution_count": null,
      "id": "5f80e965-cabb-4a0f-afb3-bb4664fd3315",
      "metadata": {
        "id": "5f80e965-cabb-4a0f-afb3-bb4664fd3315"
      },
      "outputs": [],
      "source": [
        "#Acessa a pagina da B3 para capturar os Dados do DI\n",
        "data=\"02/02/2023\"\n",
        "URL_DI=\"https://www2.bmf.com.br/pages/portal/bmfbovespa/lumis/lum-sistema-pregao-ptBR.asp?Data=\"+data+\"&Mercadoria=DI1\"\n",
        "navegador=webdriver.Chrome()\n",
        "navegador.get(URL_DI)\n",
        "\n",
        "#captura a coluna de vencimento\n",
        "vencimento_di=navegador.find_element(By.ID, \"MercadoFut0\").text\n",
        "#separa a string em uma lista\n",
        "vencimento_di=vencimento_di.split()\n",
        "#remove o cabecalho\n",
        "vencimento_di=vencimento_di[1:]\n",
        "\n",
        "tabela_vencimento_di=pd.DataFrame(vencimento_di, columns=[\"VENCTO\"])\n",
        "\n",
        "n_linhas=tabela_vencimento_di.shape[0]\n",
        "\n",
        "#captura os dados do DI futuro\n",
        "dados_di=navegador.find_element(By.ID, \"MercadoFut2\").text\n",
        "#separa a string em uma lista\n",
        "dados_di=dados_di.split()\n",
        "#remove o cabeçalho\n",
        "dados_di=dados_di[26:]\n",
        "#separa em array\n",
        "dados_separado_di=np.array_split(dados_di,n_linhas)\n",
        "dados_separado_di[0]\n",
        "tabela_dados_di=pd.DataFrame(dados_separado_di, columns=[\"AJUSTE ANTER.\",\"AJUSTE ANTER. CORRIG.\",\"PREÇO ABERT.\",\"PREÇO MÍN.\",\"PREÇO MÁX.\",\"PREÇO MÉD.\",\"ÚLT. PREÇO\", \"AJUSTE\", \"VAR. PTOS.\", \"ÚLT. OF. COMPRA\", \"ÚLT. OF. VENDA\"])\n",
        "\n",
        "\n",
        "\n",
        "df_di=pd.merge(tabela_vencimento_di,tabela_dados_di, left_index=True, right_index=True, how=\"inner\")\n",
        "df_di"
      ]
    },
    {
      "cell_type": "code",
      "execution_count": null,
      "id": "3de27e0c-3d45-4762-b6a6-ba59e689883a",
      "metadata": {
        "id": "3de27e0c-3d45-4762-b6a6-ba59e689883a"
      },
      "outputs": [],
      "source": [
        "#Acessa a pagina da B3 para capturar os Dados do FRC\n",
        "data=\"02/02/2023\"\n",
        "URL_FRC=\"https://www2.bmf.com.br/pages/portal/bmfbovespa/lumis/lum-sistema-pregao-ptBR.asp?Data=\"+data+\"&Mercadoria=FRC\"\n",
        "navegador=webdriver.Chrome()\n",
        "navegador.get(URL_FRC)\n",
        "\n",
        "#captura a coluna de vencimento\n",
        "vencimento_frc=navegador.find_element(By.ID, \"MercadoFut0\").text\n",
        "#separa a string em uma lista\n",
        "vencimento_frc=vencimento_frc.split()\n",
        "#remove o cabecalho\n",
        "vencimento_frc=vencimento_frc[1:]\n",
        "\n",
        "tabela_vencimento_frc=pd.DataFrame(vencimento_frc, columns=[\"VENCTO\"])\n",
        "#captura o numero de vencimentos negociados\n",
        "n_linhas=tabela_vencimento_frc.shape[0]\n",
        "\n",
        "#captura os dados do FRC futuro\n",
        "dados_frc=navegador.find_element(By.ID, \"MercadoFut2\").text\n",
        "#separa a string em uma lista\n",
        "dados_frc=dados_frc.split()\n",
        "#remove o cabeçalho\n",
        "dados_frc=dados_frc[20:]\n",
        "\n",
        "\n",
        "\n",
        "#separa em array\n",
        "dados_separado_frc=np.array_split(dados_frc,n_linhas)\n",
        "dados_separado_frc[0]\n",
        "\n",
        "\n",
        "tabela_dados_frc=pd.DataFrame(dados_separado_frc, columns=[\"PREÇO ABERT.\",\"PREÇO MÍN.\",\"PREÇO MÁX.\",\"PREÇO MÉD.\",\"ÚLT. PREÇO\", \"AJUSTE\", \"VAR. PTOS.\", \"ÚLT. OF. COMPRA\", \"ÚLT. OF. VENDA\"])\n",
        "\n",
        "\n",
        "\n",
        "df_frc=pd.merge(tabela_vencimento_frc,tabela_dados_frc, left_index=True, right_index=True, how=\"inner\")\n",
        "df_frc\n",
        "\n"
      ]
    },
    {
      "cell_type": "code",
      "execution_count": null,
      "id": "9b899bec-d101-4c01-85ca-74e03eb6eaf7",
      "metadata": {
        "id": "9b899bec-d101-4c01-85ca-74e03eb6eaf7"
      },
      "outputs": [],
      "source": [
        "#IBOVESPA\n",
        "#acessa o site da B3 para capturar as informações de futuro do indice ibovespa na data especificada\n",
        "navegador=webdriver.Chrome()\n",
        "data=\"02/02/2023\"\n",
        "URL_IBOV=\"https://www2.bmf.com.br/pages/portal/bmfbovespa/lumis/lum-sistema-pregao-ptBR.asp?Data=\"+data+\"&Mercadoria=IND\"\n",
        "navegador.get(URL_IBOV)\n",
        "#captura a coluna de vencimento\n",
        "vencimento=navegador.find_element(By.ID, \"MercadoFut0\").text\n",
        "#separa a string em uma lista\n",
        "vencimento=vencimento.split()\n",
        "#remove o cabecalho\n",
        "vencimento=vencimento[1:]\n",
        "tabela_vencimento=pd.DataFrame(vencimento, columns=[\"VENCTO\"])\n",
        "#captura o numero de vencimentos negociados\n",
        "n_linhas=tabela_vencimento.shape[0]\n",
        "#captura os dados do dolar futuro\n",
        "dados=navegador.find_element(By.ID, \"MercadoFut2\").text\n",
        "#separa a string em uma lista\n",
        "dados=dados.split()\n",
        "#remove o cabeçalho\n",
        "dados=dados[20:]\n",
        "#separa em n arrays\n",
        "dados_separado=np.array_split(dados,n_linhas)\n",
        "\n",
        "tabela_dados=pd.DataFrame(dados_separado, columns=[\"PREÇO ABERT.\",\"PREÇO MÍN.\",\"PREÇO MÁX.\",\"PREÇO MÉD.\",\"ÚLT. PREÇO\", \"AJUSTE\",\"OSCIL.\", \"VAR. PTOS.\", \"ÚLT. OF. COMPRA\", \"ÚLT. OF. VENDA\"])\n",
        "\n",
        "\n",
        "df_ibov=pd.merge(tabela_vencimento,tabela_dados, left_index=True, right_index=True, how=\"inner\")\n",
        "df_ibov\n"
      ]
    },
    {
      "cell_type": "code",
      "execution_count": null,
      "id": "9a6255cf-a176-4d11-b94b-6966f9736f11",
      "metadata": {
        "id": "9a6255cf-a176-4d11-b94b-6966f9736f11"
      },
      "outputs": [],
      "source": [
        "#MILHO\n",
        "#acessa o site da B3 para capturar as informações de futuro do Milho na data especificada\n",
        "navegador=webdriver.Chrome()\n",
        "data=\"02/02/2023\"\n",
        "URL_MILHO=\"https://www2.bmf.com.br/pages/portal/bmfbovespa/lumis/lum-sistema-pregao-ptBR.asp?Data=\"+data+\"&Mercadoria=CCM\"\n",
        "navegador.get(URL_MILHO)\n",
        "#captura a coluna de vencimento\n",
        "vencimento=navegador.find_element(By.ID, \"MercadoFut0\").text\n",
        "#separa a string em uma lista\n",
        "vencimento=vencimento.split()\n",
        "#remove o cabecalho\n",
        "vencimento=vencimento[1:]\n",
        "tabela_vencimento=pd.DataFrame(vencimento, columns=[\"VENCTO\"])\n",
        "#captura o numero de vencimentos negociados\n",
        "n_linhas=tabela_vencimento.shape[0]\n",
        "#captura os dados do dolar futuro\n",
        "dados=navegador.find_element(By.ID, \"MercadoFut2\").text\n",
        "#separa a string em uma lista\n",
        "dados=dados.split()\n",
        "#remove o cabeçalho\n",
        "dados=dados[20:]\n",
        "#separa em n arrays\n",
        "dados_separado=np.array_split(dados,n_linhas)\n",
        "\n",
        "tabela_dados=pd.DataFrame(dados_separado, columns=[\"PREÇO ABERT.\",\"PREÇO MÍN.\",\"PREÇO MÁX.\",\"PREÇO MÉD.\",\"ÚLT. PREÇO\", \"AJUSTE\", \"VAR. PTOS.\", \"ÚLT. OF. COMPRA\", \"ÚLT. OF. VENDA\"])\n",
        "\n",
        "\n",
        "df_milho=pd.merge(tabela_vencimento,tabela_dados, left_index=True, right_index=True, how=\"inner\")\n",
        "df_milho\n"
      ]
    },
    {
      "cell_type": "code",
      "execution_count": null,
      "id": "db8d6048-ebcd-4c1e-9848-e04415278e43",
      "metadata": {
        "id": "db8d6048-ebcd-4c1e-9848-e04415278e43"
      },
      "outputs": [],
      "source": [
        "#OURO\n",
        "#acessa o site da B3 para capturar as informações de futuro do Milho na data especificada\n",
        "navegador=webdriver.Chrome()\n",
        "data=\"02/02/2023\"\n",
        "URL_MILHO=\"https://www2.bmf.com.br/pages/portal/bmfbovespa/lumis/lum-sistema-pregao-ptBR.asp?Data=\"+data+\"&Mercadoria=OZ1\"\n",
        "navegador.get(URL_MILHO)\n",
        "#captura a coluna de vencimento\n",
        "vencimento=navegador.find_element(By.ID, \"MercadoFut0\").text\n",
        "#separa a string em uma lista\n",
        "vencimento=vencimento.split()\n",
        "#remove o cabecalho\n",
        "vencimento=vencimento[1:]\n",
        "tabela_vencimento=pd.DataFrame(vencimento, columns=[\"VENCTO\"])\n",
        "#captura o numero de vencimentos negociados\n",
        "n_linhas=tabela_vencimento.shape[0]\n",
        "#captura os dados do dolar futuro\n",
        "dados=navegador.find_element(By.ID, \"MercadoFut2\").text\n",
        "#separa a string em uma lista\n",
        "dados=dados.split()\n",
        "#remove o cabeçalho\n",
        "dados=dados[19:]\n",
        "#separa em n arrays\n",
        "dados_separado=np.array_split(dados,n_linhas)\n",
        "\n",
        "tabela_dados=pd.DataFrame(dados_separado, columns=[\"PREÇO ABERT.\",\"PREÇO MÍN.\",\"PREÇO MÁX.\",\"PREÇO MÉD.\",\"ÚLT. PREÇO\", \"AJUSTE\", \"VAR. PTOS.\", \"ÚLT. OF. COMPRA\", \"ÚLT. OF. VENDA\"])\n",
        "\n",
        "\n",
        "df_ouro=pd.merge(tabela_vencimento,tabela_dados, left_index=True, right_index=True, how=\"inner\")\n",
        "df_ouro\n"
      ]
    },
    {
      "cell_type": "code",
      "execution_count": null,
      "id": "4366e03b-3848-48c5-bf3c-f03b3f30ba1e",
      "metadata": {
        "id": "4366e03b-3848-48c5-bf3c-f03b3f30ba1e"
      },
      "outputs": [],
      "source": [
        "#BOI GORDO\n",
        "#acessa o site da B3 para capturar as informações de futuro de boi gordo data especificada\n",
        "navegador=webdriver.Chrome()\n",
        "data=\"02/02/2023\"\n",
        "URL_BGI=\"https://www2.bmf.com.br/pages/portal/bmfbovespa/lumis/lum-sistema-pregao-ptBR.asp?Data=\"+data+\"&Mercadoria=BGI\"\n",
        "navegador.get(URL_BGI)\n",
        "#captura a coluna de vencimento\n",
        "vencimento=navegador.find_element(By.ID, \"MercadoFut0\").text\n",
        "#separa a string em uma lista\n",
        "vencimento=vencimento.split()\n",
        "#remove o cabecalho\n",
        "vencimento=vencimento[1:]\n",
        "\n",
        "tabela_vencimento=pd.DataFrame(vencimento, columns=[\"VENCTO\"])\n",
        "#captura o numero de vencimentos negociados\n",
        "n_linhas=tabela_vencimento.shape[0]\n",
        "\n",
        "\n",
        "#captura os dados do dolar futuro\n",
        "dados=navegador.find_element(By.ID, \"MercadoFut2\").text\n",
        "#separa a string em uma lista\n",
        "dados=dados.split()\n",
        "#remove o cabeçalho\n",
        "dados=dados[19:]\n",
        "#separa em array\n",
        "dados_separado=np.array_split(dados,n_linhas)\n",
        "\n",
        "tabela_dados=pd.DataFrame(dados_separado, columns=[\"PREÇO ABERT.\",\"PREÇO MÍN.\",\"PREÇO MÁX.\",\"PREÇO MÉD.\",\"ÚLT. PREÇO\", \"AJUSTE\", \"VAR. PTOS.\", \"ÚLT. OF. COMPRA\", \"ÚLT. OF. VENDA\"])\n",
        "\n",
        "\n",
        "df_BGI=pd.merge(tabela_vencimento,tabela_dados, left_index=True, right_index=True, how=\"inner\")\n",
        "df_BGI"
      ]
    },
    {
      "cell_type": "code",
      "execution_count": null,
      "id": "07f8a055-b6f8-42e3-a056-9e6607aa381d",
      "metadata": {
        "id": "07f8a055-b6f8-42e3-a056-9e6607aa381d"
      },
      "outputs": [],
      "source": []
    }
  ],
  "metadata": {
    "kernelspec": {
      "display_name": "Python 3 (ipykernel)",
      "language": "python",
      "name": "python3"
    },
    "language_info": {
      "codemirror_mode": {
        "name": "ipython",
        "version": 3
      },
      "file_extension": ".py",
      "mimetype": "text/x-python",
      "name": "python",
      "nbconvert_exporter": "python",
      "pygments_lexer": "ipython3",
      "version": "3.9.12"
    },
    "colab": {
      "provenance": [],
      "include_colab_link": true
    }
  },
  "nbformat": 4,
  "nbformat_minor": 5
}